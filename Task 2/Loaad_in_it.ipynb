{
 "cells": [
  {
   "cell_type": "code",
   "execution_count": 4,
   "metadata": {},
   "outputs": [],
   "source": [
    "import pandas as pd\n",
    "import numpy as np\n",
    "import tensorflow as tf\n",
    "from sklearn.model_selection import train_test_split\n",
    "from sklearn.preprocessing import StandardScaler\n",
    "from tensorflow.keras.models import Sequential\n",
    "from tensorflow.keras.layers import Dense, Dropout\n",
    "from tensorflow.keras.regularizers import l2\n",
    "from sklearn.metrics import mean_squared_error\n",
    "import matplotlib.pyplot as plt\n",
    "\n",
    "\n"
   ]
  },
  {
   "cell_type": "markdown",
   "metadata": {},
   "source": [
    "#### Replace lung_disease.xlsx with the directory of your testing file.\n",
    "#### Please ensure the format should be the same as the dataset(lung_disease.xlxs)"
   ]
  },
  {
   "cell_type": "code",
   "execution_count": 5,
   "metadata": {},
   "outputs": [],
   "source": [
    "df = pd.read_excel('lung_disease.xlsx')\n",
    "# I read on internet and found tidal volume is around 10 percent of the vital capacity hence used that\n",
    "df['Tidal_Volume']=df['FVC']/10\n",
    "\n",
    "X = df.drop(columns=['FVC','Tidal_Volume'])\n",
    "y = df['Tidal_Volume']\n",
    "\n",
    "\n",
    "scaler = StandardScaler()\n",
    "X = scaler.fit_transform(X)\n"
   ]
  },
  {
   "cell_type": "code",
   "execution_count": 6,
   "metadata": {},
   "outputs": [
    {
     "name": "stdout",
     "output_type": "stream",
     "text": [
      "\u001b[1m15/15\u001b[0m \u001b[32m━━━━━━━━━━━━━━━━━━━━\u001b[0m\u001b[37m\u001b[0m \u001b[1m0s\u001b[0m 2ms/step \n",
      "Mean Squared Error test set: 0.0014505463625578685\n",
      "    Actual  Predicted\n",
      "0    0.285   0.295055\n",
      "1    0.340   0.332429\n",
      "2    0.276   0.294285\n",
      "3    0.368   0.375162\n",
      "4    0.244   0.217906\n",
      "5    0.248   0.245321\n",
      "6    0.436   0.431967\n",
      "7    0.319   0.313775\n",
      "8    0.316   0.307489\n",
      "9    0.232   0.351058\n",
      "10   0.256   0.259161\n",
      "     Actual  Predicted\n",
      "459   0.428   0.403226\n",
      "460   0.465   0.432520\n",
      "461   0.184   0.233960\n",
      "462   0.212   0.221877\n",
      "463   0.344   0.331563\n",
      "464   0.308   0.250744\n",
      "465   0.388   0.262566\n",
      "466   0.376   0.372774\n",
      "467   0.304   0.287353\n",
      "468   0.196   0.237260\n",
      "469   0.472   0.442358\n"
     ]
    }
   ],
   "source": [
    "from tensorflow.keras.models import load_model\n",
    "loaded_model=load_model(\"Tidal_Volume(litre).keras\")\n",
    "y_predicted=loaded_model.predict(X)\n",
    "mse = mean_squared_error(y, y_predicted)\n",
    "print(f'Mean Squared Error test set: {mse}')\n",
    "comparison_df = pd.DataFrame(np.concatenate([y.values.reshape(-1, 1), y_predicted], axis=1), columns=['Actual', 'Predicted'])\n",
    "print(comparison_df.head(11))\n",
    "print(comparison_df.tail(11))"
   ]
  }
 ],
 "metadata": {
  "kernelspec": {
   "display_name": "base",
   "language": "python",
   "name": "python3"
  },
  "language_info": {
   "codemirror_mode": {
    "name": "ipython",
    "version": 3
   },
   "file_extension": ".py",
   "mimetype": "text/x-python",
   "name": "python",
   "nbconvert_exporter": "python",
   "pygments_lexer": "ipython3",
   "version": "3.11.7"
  }
 },
 "nbformat": 4,
 "nbformat_minor": 2
}
